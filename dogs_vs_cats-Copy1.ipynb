{
 "cells": [
  {
   "cell_type": "code",
   "execution_count": 1,
   "metadata": {},
   "outputs": [],
   "source": [
    "import cv2                 # working with, mainly resizing, images\n",
    "import numpy as np         # dealing with arrays\n",
    "import os                  # dealing with directories\n",
    "from random import shuffle # mixing up or currently ordered data that might lead our network astray in training.\n",
    "from tqdm import tqdm      # a nice pretty percentage bar for tasks\n",
    "TRAIN_DIR = r\"C:\\Users\\Asaf Yekutiel\\Desktop\\data\\train\"\n",
    "TEST_DIR = r\"C:\\Users\\Asaf Yekutiel\\Desktop\\data\\test1\"\n",
    "IMG_SIZE = 32\n",
    "LR = 1e-3\n",
    "import pandas as pd\n",
    "MODEL_NAME = 'dogsvscats-{}-{}.model'.format(LR, '2conv-basic')\n",
    "from sklearn.ensemble import RandomForestClassifier,BaggingClassifier\n",
    "from sklearn.neighbors import KNeighborsClassifier\n",
    "from sklearn.ensemble import VotingClassifier\n",
    "import matplotlib.pyplot as plt\n",
    "import seaborn as sns\n",
    "%matplotlib inline\n",
    "from sklearn.model_selection import train_test_split\n",
    "from sklearn.preprocessing import StandardScaler\n",
    "from sklearn.decomposition import PCA\n",
    "import xgboost as xgb\n",
    "from sklearn.ensemble import StackingClassifier\n",
    "from sklearn.linear_model import LogisticRegression\n",
    "from sklearn.ensemble import GradientBoostingClassifier\n",
    "from xgboost.sklearn import XGBClassifier\n",
    "from sklearn import metrics\n",
    "from sklearn.metrics import mean_squared_error\n",
    "from sklearn.model_selection import RandomizedSearchCV\n",
    "from sklearn.model_selection import train_test_split, GridSearchCV, cross_val_score, StratifiedKFold\n",
    "from sklearn.metrics import accuracy_score\n",
    "from sklearn.metrics import matthews_corrcoef\n",
    "from sklearn.metrics import f1_score\n",
    "from sklearn.pipeline import make_pipeline\n",
    "from sklearn.impute import SimpleImputer\n",
    "from sklearn.cluster import KMeans\n",
    "from sklearn.cluster import MiniBatchKMeans\n",
    "\n",
    "from pprint import pprint\n"
   ]
  },
  {
   "cell_type": "code",
   "execution_count": 2,
   "metadata": {},
   "outputs": [],
   "source": [
    "def label_img(img):\n",
    "    word_label = img.split('.')[-3]\n",
    "   \n",
    "    if word_label == 'cat': return 1\n",
    "    #                             \n",
    "    elif word_label == 'dog': return 0"
   ]
  },
  {
   "cell_type": "code",
   "execution_count": 3,
   "metadata": {},
   "outputs": [
    {
     "name": "stderr",
     "output_type": "stream",
     "text": [
      "100%|███████████████████████████████████████████████████████████████████████████| 25000/25000 [01:12<00:00, 345.57it/s]\n"
     ]
    }
   ],
   "source": [
    "labal_data =[]\n",
    "training_data = []\n",
    "for img in tqdm(os.listdir(TRAIN_DIR)):\n",
    "        label = label_img(img)\n",
    "        path = os.path.join(TRAIN_DIR,img)\n",
    "        img = cv2.imread(path, cv2.COLOR_BGR2RGB)\n",
    "        img = cv2.resize(img, (IMG_SIZE,IMG_SIZE))\n",
    "        training_data.append(pd.Series(img.flatten()))\n",
    "        labal_data.append(label)\n",
    "    \n"
   ]
  },
  {
   "cell_type": "code",
   "execution_count": 4,
   "metadata": {
    "scrolled": false
   },
   "outputs": [],
   "source": [
    "images_df = pd.DataFrame(training_data)\n",
    "labels_df = pd.DataFrame(labal_data, columns = ['labels'])\n"
   ]
  },
  {
   "cell_type": "code",
   "execution_count": 5,
   "metadata": {},
   "outputs": [
    {
     "data": {
      "text/html": [
       "<div>\n",
       "<style scoped>\n",
       "    .dataframe tbody tr th:only-of-type {\n",
       "        vertical-align: middle;\n",
       "    }\n",
       "\n",
       "    .dataframe tbody tr th {\n",
       "        vertical-align: top;\n",
       "    }\n",
       "\n",
       "    .dataframe thead th {\n",
       "        text-align: right;\n",
       "    }\n",
       "</style>\n",
       "<table border=\"1\" class=\"dataframe\">\n",
       "  <thead>\n",
       "    <tr style=\"text-align: right;\">\n",
       "      <th></th>\n",
       "      <th>0</th>\n",
       "      <th>1</th>\n",
       "      <th>2</th>\n",
       "      <th>3</th>\n",
       "      <th>4</th>\n",
       "      <th>5</th>\n",
       "      <th>6</th>\n",
       "      <th>7</th>\n",
       "      <th>8</th>\n",
       "      <th>9</th>\n",
       "      <th>...</th>\n",
       "      <th>3063</th>\n",
       "      <th>3064</th>\n",
       "      <th>3065</th>\n",
       "      <th>3066</th>\n",
       "      <th>3067</th>\n",
       "      <th>3068</th>\n",
       "      <th>3069</th>\n",
       "      <th>3070</th>\n",
       "      <th>3071</th>\n",
       "      <th>labels</th>\n",
       "    </tr>\n",
       "  </thead>\n",
       "  <tbody>\n",
       "    <tr>\n",
       "      <th>0</th>\n",
       "      <td>93</td>\n",
       "      <td>171</td>\n",
       "      <td>210</td>\n",
       "      <td>103</td>\n",
       "      <td>181</td>\n",
       "      <td>224</td>\n",
       "      <td>114</td>\n",
       "      <td>192</td>\n",
       "      <td>235</td>\n",
       "      <td>119</td>\n",
       "      <td>...</td>\n",
       "      <td>1</td>\n",
       "      <td>4</td>\n",
       "      <td>4</td>\n",
       "      <td>1</td>\n",
       "      <td>3</td>\n",
       "      <td>3</td>\n",
       "      <td>1</td>\n",
       "      <td>3</td>\n",
       "      <td>3</td>\n",
       "      <td>1</td>\n",
       "    </tr>\n",
       "    <tr>\n",
       "      <th>1</th>\n",
       "      <td>41</td>\n",
       "      <td>37</td>\n",
       "      <td>33</td>\n",
       "      <td>40</td>\n",
       "      <td>42</td>\n",
       "      <td>38</td>\n",
       "      <td>43</td>\n",
       "      <td>43</td>\n",
       "      <td>35</td>\n",
       "      <td>47</td>\n",
       "      <td>...</td>\n",
       "      <td>37</td>\n",
       "      <td>45</td>\n",
       "      <td>62</td>\n",
       "      <td>45</td>\n",
       "      <td>48</td>\n",
       "      <td>66</td>\n",
       "      <td>31</td>\n",
       "      <td>36</td>\n",
       "      <td>51</td>\n",
       "      <td>1</td>\n",
       "    </tr>\n",
       "    <tr>\n",
       "      <th>2</th>\n",
       "      <td>62</td>\n",
       "      <td>55</td>\n",
       "      <td>46</td>\n",
       "      <td>65</td>\n",
       "      <td>58</td>\n",
       "      <td>49</td>\n",
       "      <td>66</td>\n",
       "      <td>59</td>\n",
       "      <td>50</td>\n",
       "      <td>64</td>\n",
       "      <td>...</td>\n",
       "      <td>143</td>\n",
       "      <td>160</td>\n",
       "      <td>162</td>\n",
       "      <td>35</td>\n",
       "      <td>157</td>\n",
       "      <td>169</td>\n",
       "      <td>3</td>\n",
       "      <td>194</td>\n",
       "      <td>194</td>\n",
       "      <td>1</td>\n",
       "    </tr>\n",
       "    <tr>\n",
       "      <th>3</th>\n",
       "      <td>217</td>\n",
       "      <td>222</td>\n",
       "      <td>221</td>\n",
       "      <td>229</td>\n",
       "      <td>229</td>\n",
       "      <td>229</td>\n",
       "      <td>228</td>\n",
       "      <td>228</td>\n",
       "      <td>228</td>\n",
       "      <td>224</td>\n",
       "      <td>...</td>\n",
       "      <td>200</td>\n",
       "      <td>202</td>\n",
       "      <td>202</td>\n",
       "      <td>215</td>\n",
       "      <td>215</td>\n",
       "      <td>213</td>\n",
       "      <td>207</td>\n",
       "      <td>212</td>\n",
       "      <td>215</td>\n",
       "      <td>1</td>\n",
       "    </tr>\n",
       "    <tr>\n",
       "      <th>4</th>\n",
       "      <td>64</td>\n",
       "      <td>100</td>\n",
       "      <td>126</td>\n",
       "      <td>53</td>\n",
       "      <td>92</td>\n",
       "      <td>118</td>\n",
       "      <td>63</td>\n",
       "      <td>104</td>\n",
       "      <td>129</td>\n",
       "      <td>108</td>\n",
       "      <td>...</td>\n",
       "      <td>46</td>\n",
       "      <td>72</td>\n",
       "      <td>86</td>\n",
       "      <td>78</td>\n",
       "      <td>101</td>\n",
       "      <td>116</td>\n",
       "      <td>55</td>\n",
       "      <td>82</td>\n",
       "      <td>94</td>\n",
       "      <td>1</td>\n",
       "    </tr>\n",
       "  </tbody>\n",
       "</table>\n",
       "<p>5 rows × 3073 columns</p>\n",
       "</div>"
      ],
      "text/plain": [
       "     0    1    2    3    4    5    6    7    8    9  ...  3063  3064  3065  \\\n",
       "0   93  171  210  103  181  224  114  192  235  119  ...     1     4     4   \n",
       "1   41   37   33   40   42   38   43   43   35   47  ...    37    45    62   \n",
       "2   62   55   46   65   58   49   66   59   50   64  ...   143   160   162   \n",
       "3  217  222  221  229  229  229  228  228  228  224  ...   200   202   202   \n",
       "4   64  100  126   53   92  118   63  104  129  108  ...    46    72    86   \n",
       "\n",
       "   3066  3067  3068  3069  3070  3071  labels  \n",
       "0     1     3     3     1     3     3       1  \n",
       "1    45    48    66    31    36    51       1  \n",
       "2    35   157   169     3   194   194       1  \n",
       "3   215   215   213   207   212   215       1  \n",
       "4    78   101   116    55    82    94       1  \n",
       "\n",
       "[5 rows x 3073 columns]"
      ]
     },
     "execution_count": 5,
     "metadata": {},
     "output_type": "execute_result"
    }
   ],
   "source": [
    "df = pd.concat([images_df, labels_df], axis=1)\n",
    "df.head()"
   ]
  },
  {
   "cell_type": "code",
   "execution_count": 6,
   "metadata": {},
   "outputs": [],
   "source": [
    "df = df.sample(frac=1)\n"
   ]
  },
  {
   "cell_type": "code",
   "execution_count": 8,
   "metadata": {},
   "outputs": [
    {
     "data": {
      "text/plain": [
       "(25000, 3073)"
      ]
     },
     "execution_count": 8,
     "metadata": {},
     "output_type": "execute_result"
    }
   ],
   "source": [
    "df.shape"
   ]
  },
  {
   "cell_type": "code",
   "execution_count": 14,
   "metadata": {},
   "outputs": [
    {
     "data": {
      "text/plain": [
       "<matplotlib.axes._subplots.AxesSubplot at 0x2119956ca60>"
      ]
     },
     "execution_count": 14,
     "metadata": {},
     "output_type": "execute_result"
    },
    {
     "data": {
      "image/png": "[encoded data removed]",
      "text/plain": [
       "<Figure size 432x288 with 1 Axes>"
      ]
     },
     "metadata": {
      "needs_background": "light"
     },
     "output_type": "display_data"
    }
   ],
   "source": [
    "sns.countplot(x='labels', data=df)\n",
    "#0=dog,1=cat\n"
   ]
  },
  {
   "cell_type": "markdown",
   "metadata": {},
   "source": [
    "We can see that the data is perfectly balanced"
   ]
  },
  {
   "cell_type": "markdown",
   "metadata": {},
   "source": [
    "## Data preparation"
   ]
  },
  {
   "cell_type": "code",
   "execution_count": 7,
   "metadata": {},
   "outputs": [],
   "source": [
    "y = df[\"labels\"]\n",
    "X = df.drop(labels = [\"labels\"], axis = 1)"
   ]
  },
  {
   "cell_type": "code",
   "execution_count": 8,
   "metadata": {},
   "outputs": [],
   "source": [
    "X_train, X_test, y_train, y_test = train_test_split( X, y, test_size = 0.2, random_state=42)"
   ]
  },
  {
   "cell_type": "markdown",
   "metadata": {},
   "source": [
    "All other data manipulations such as PCA and scaling will be performed within the pipeline before running each model"
   ]
  },
  {
   "cell_type": "markdown",
   "metadata": {},
   "source": [
    " ## Run some models without PCA"
   ]
  },
  {
   "cell_type": "code",
   "execution_count": 19,
   "metadata": {},
   "outputs": [
    {
     "name": "stdout",
     "output_type": "stream",
     "text": [
      "Model Accuracy: 0.649\n"
     ]
    }
   ],
   "source": [
    "rf = RandomForestClassifier(criterion='entropy', max_depth=50, max_features='auto',\n",
    "                       min_samples_leaf=4, min_samples_split=3,\n",
    "                       n_estimators=100)\n",
    "pipeline_rf = make_pipeline(StandardScaler(),rf)\n",
    "pipeline_rf.fit(X_train, y_train)\n",
    "print('Model Accuracy: %.3f' % pipeline_rf.score(X_test, y_test))        "
   ]
  },
  {
   "cell_type": "code",
   "execution_count": 20,
   "metadata": {},
   "outputs": [
    {
     "name": "stderr",
     "output_type": "stream",
     "text": [
      "C:\\Users\\Asaf Yekutiel\\anaconda3\\lib\\site-packages\\xgboost\\sklearn.py:888: UserWarning: The use of label encoder in XGBClassifier is deprecated and will be removed in a future release. To remove this warning, do the following: 1) Pass option use_label_encoder=False when constructing XGBClassifier object; and 2) Encode your labels (y) as integers starting with 0, i.e. 0, 1, 2, ..., [num_class - 1].\n",
      "  warnings.warn(label_encoder_deprecation_msg, UserWarning)\n"
     ]
    },
    {
     "name": "stdout",
     "output_type": "stream",
     "text": [
      "Model Accuracy: 0.685\n"
     ]
    }
   ],
   "source": [
    "xgb1 = XGBClassifier(n_jobs = -1,learning_rate = 0.1, seed = 0,eval_metric='mlogloss',subsample=0.8, n_estimators=150, min_child_weight=10, max_depth=4, gamma=0.5, colsample_bytree=1.0)\n",
    "pipeline_xgb1 = make_pipeline(StandardScaler(),xgb1)\n",
    "pipeline_xgb1.fit(X_train, y_train)\n",
    "print('Model Accuracy: %.3f' % pipeline_xgb1.score(X_test, y_test))    "
   ]
  },
  {
   "cell_type": "markdown",
   "metadata": {},
   "source": [
    "If we manage to reach a result around 68.5 with PCA we will know that we have found a good model"
   ]
  },
  {
   "cell_type": "code",
   "execution_count": null,
   "metadata": {},
   "outputs": [],
   "source": []
  },
  {
   "cell_type": "markdown",
   "metadata": {},
   "source": [
    "## Run some models with PCA"
   ]
  },
  {
   "cell_type": "markdown",
   "metadata": {},
   "source": [
    "### Random Forest Classifier"
   ]
  },
  {
   "cell_type": "code",
   "execution_count": 39,
   "metadata": {},
   "outputs": [],
   "source": [
    "tree_param_grid = [\n",
    "    \n",
    "    {\n",
    "     'n_estimators': [100,150,200,250],\n",
    "     'max_depth':[None,30,50,100],\n",
    "     'max_features': ['auto','sqrt','log2'],\n",
    "     'min_samples_leaf': [1, 2, 4],\n",
    "     'min_samples_split': [2,3,5,7],\n",
    "     'criterion' :['gini', 'entropy']  \n",
    "        \n",
    "    }\n",
    "    \n",
    "]"
   ]
  },
  {
   "cell_type": "code",
   "execution_count": 40,
   "metadata": {},
   "outputs": [],
   "source": [
    "rf = RandomForestClassifier()\n",
    "gridTree = RandomizedSearchCV(rf, param_distributions=tree_param_grid,scoring='accuracy', return_train_score=True, n_jobs=-1, cv=5, verbose=3, random_state=21,n_iter=50)"
   ]
  },
  {
   "cell_type": "code",
   "execution_count": 41,
   "metadata": {
    "scrolled": true
   },
   "outputs": [
    {
     "name": "stdout",
     "output_type": "stream",
     "text": [
      "Fitting 5 folds for each of 50 candidates, totalling 250 fits\n"
     ]
    },
    {
     "name": "stderr",
     "output_type": "stream",
     "text": [
      "[Parallel(n_jobs=-1)]: Using backend LokyBackend with 12 concurrent workers.\n",
      "[Parallel(n_jobs=-1)]: Done   8 tasks      | elapsed:  1.4min\n",
      "[Parallel(n_jobs=-1)]: Done 104 tasks      | elapsed: 14.9min\n",
      "[Parallel(n_jobs=-1)]: Done 250 out of 250 | elapsed: 36.4min finished\n"
     ]
    },
    {
     "name": "stdout",
     "output_type": "stream",
     "text": [
      "Accuracy: 0.6396\n"
     ]
    }
   ],
   "source": [
    "pipe = make_pipeline(StandardScaler(), PCA(n_components=0.90),rf)\n",
    "pipe.fit(X_train,y_train)\n",
    "y_pred=pipe.predict(X_test)\n",
    "print(\"Accuracy:\",metrics.accuracy_score(y_test, y_pred))"
   ]
  },
  {
   "cell_type": "code",
   "execution_count": 44,
   "metadata": {},
   "outputs": [
    {
     "data": {
      "text/plain": [
       "RandomForestClassifier(criterion='entropy', max_depth=100, min_samples_leaf=4,\n",
       "                       min_samples_split=5, n_estimators=250)"
      ]
     },
     "execution_count": 44,
     "metadata": {},
     "output_type": "execute_result"
    }
   ],
   "source": [
    "gridTree.best_estimator_"
   ]
  },
  {
   "cell_type": "code",
   "execution_count": 109,
   "metadata": {},
   "outputs": [
    {
     "data": {
      "text/plain": [
       "RandomForestClassifier(criterion='entropy', max_depth=50, max_features='sqrt',\n",
       "                       min_samples_leaf=4, min_samples_split=3,\n",
       "                       n_estimators=250)"
      ]
     },
     "execution_count": 109,
     "metadata": {},
     "output_type": "execute_result"
    }
   ],
   "source": [
    "gridTree.best_estimator_"
   ]
  },
  {
   "cell_type": "code",
   "execution_count": 26,
   "metadata": {},
   "outputs": [],
   "source": [
    "# the best model that my RandomizedSearchCV gave me after 5-6 difrrent tries\n",
    "rf_best = RandomForestClassifier(criterion='entropy', max_depth=50, max_features='sqrt',\n",
    "                       min_samples_leaf=4, min_samples_split=3,\n",
    "                       n_estimators=250)\n"
   ]
  },
  {
   "cell_type": "code",
   "execution_count": 25,
   "metadata": {},
   "outputs": [
    {
     "name": "stdout",
     "output_type": "stream",
     "text": [
      "Model Accuracy: 0.647\n"
     ]
    }
   ],
   "source": [
    "pipeline_rf_best = make_pipeline(StandardScaler(), PCA(n_components=0.9)\n",
    "                       ,rf_best)\n",
    "pipeline_rf_best.fit(X_train, y_train)\n",
    "print('Model Accuracy: %.3f' % pipeline_rf_best.score(X_test, y_test))"
   ]
  },
  {
   "cell_type": "markdown",
   "metadata": {},
   "source": [
    "### XGB Classifier"
   ]
  },
  {
   "cell_type": "code",
   "execution_count": null,
   "metadata": {},
   "outputs": [],
   "source": [
    "params = {\n",
    "        'learning_rate':[ 0.1, 0.2, 0.3],\n",
    "        'n_estimators':[100,150,200,250],\n",
    "        'min_child_weight': [1,3, 5,7, 10],\n",
    "        'gamma': [0.5, 1, 1.5, 2, 5],\n",
    "        'subsample': [0.6, 0.8, 1.0],\n",
    "        'colsample_bytree': [0.6,0.7, 0.8, 0.9 1.0],\n",
    "        'max_depth': [3, 4, 5,8]\n",
    "        }"
   ]
  },
  {
   "cell_type": "code",
   "execution_count": null,
   "metadata": {},
   "outputs": [],
   "source": [
    "xgb = XGBClassifier(objective='multi:softmax',\n",
    "                    silent=True, nthread=1)\n",
    "grid_xgb = RandomizedSearchCV(xgb, param_distributions=params,scoring='accuracy', return_train_score=True, n_jobs=-1, cv=5, verbose=5, ,n_iter=100 )\n",
    "pipe_xgb = make_pipeline(imputer,StandardScaler(), PCA(n_components=0.90),grid_xgb)\n",
    "pipe_xgb.fit(X_train,y_train)\n",
    "print('Model Accuracy: %.3f' % pipe_xgb.score(X_test, y_test))"
   ]
  },
  {
   "cell_type": "code",
   "execution_count": 9,
   "metadata": {
    "scrolled": false
   },
   "outputs": [],
   "source": [
    "# the best model that my RandomizedSearchCV gave me after 5 difrrent tries\n",
    "\n",
    "xgb_best = XGBClassifier(base_score=0.5, booster='gbtree', colsample_bylevel=1,\n",
    "              colsample_bynode=1, colsample_bytree=0.7, gamma=0, gpu_id=-1,\n",
    "              importance_type='gain', interaction_constraints='',\n",
    "              learning_rate=0.1, max_delta_step=0, max_depth=8,\n",
    "              min_child_weight=1,  monotone_constraints='()',\n",
    "              n_estimators=250, n_jobs=-1, num_class=3, num_parallel_tree=1,\n",
    "              objective='multi:softmax', random_state=0, reg_alpha=0,\n",
    "              reg_lambda=1, scale_pos_weight=None, subsample=1,\n",
    "              tree_method='exact', validate_parameters=1, verbosity=None,cv=5)\n"
   ]
  },
  {
   "cell_type": "code",
   "execution_count": null,
   "metadata": {},
   "outputs": [],
   "source": [
    "pipeline_5 = make_pipeline(StandardScaler(), PCA(n_components=0.9)\n",
    "                       ,xgb_best)\n",
    "pipeline_5.fit(X_train, y_train)\n",
    "print('Model Accuracy: %.3f' % pipeline_5.score(X_test, y_test))"
   ]
  },
  {
   "cell_type": "markdown",
   "metadata": {},
   "source": [
    "Lats try to improve this model by using Bagging Classifier"
   ]
  },
  {
   "cell_type": "code",
   "execution_count": 10,
   "metadata": {},
   "outputs": [
    {
     "name": "stdout",
     "output_type": "stream",
     "text": [
      "Fitting 5 folds for each of 8 candidates, totalling 40 fits\n"
     ]
    },
    {
     "name": "stderr",
     "output_type": "stream",
     "text": [
      "[Parallel(n_jobs=-1)]: Using backend LokyBackend with 12 concurrent workers.\n",
      "[Parallel(n_jobs=-1)]: Done  40 out of  40 | elapsed: 871.9min finished\n"
     ]
    },
    {
     "name": "stdout",
     "output_type": "stream",
     "text": [
      "Model Accuracy: 0.683\n"
     ]
    }
   ],
   "source": [
    "# using grid to find the best parameters\n",
    "params = {'n_estimators': [10,30],\n",
    "          'max_samples': [0.5, 1.0],\n",
    "          'max_features': [0.5, 1.0],\n",
    "          'bootstrap': [True],      \n",
    "          'bootstrap_features': [True]}\n",
    "xgb_clf=xgb_best\n",
    "\n",
    "bagging_classifier_grid = GridSearchCV(BaggingClassifier(base_estimator = xgb_clf,random_state=5, n_jobs=-1), param_grid =params, cv=5, n_jobs=-1, verbose=1)\n",
    "pipeline_bagging_xgb1 = make_pipeline(StandardScaler(), PCA(n_components=0.90)\n",
    "                       ,bagging_classifier_grid)  \n",
    "pipeline_bagging_xgb1.fit(X_train, y_train)\n",
    "\n",
    "print('Model Accuracy: %.3f' % pipeline_bagging_xgb1.score(X_test, y_test))"
   ]
  },
  {
   "cell_type": "markdown",
   "metadata": {},
   "source": [
    "This is a great result.<br/> \n",
    " Result almost like that of the same model before we performed PCA"
   ]
  },
  {
   "cell_type": "code",
   "execution_count": 11,
   "metadata": {},
   "outputs": [
    {
     "data": {
      "text/plain": [
       "BaggingClassifier(base_estimator=XGBClassifier(base_score=0.5, booster='gbtree',\n",
       "                                               colsample_bylevel=1,\n",
       "                                               colsample_bynode=1,\n",
       "                                               colsample_bytree=0.7, cv=5,\n",
       "                                               gamma=0, gpu_id=-1,\n",
       "                                               importance_type='gain',\n",
       "                                               interaction_constraints='',\n",
       "                                               learning_rate=0.1,\n",
       "                                               max_delta_step=0, max_depth=8,\n",
       "                                               min_child_weight=1, missing=nan,\n",
       "                                               monotone_constraints='()',\n",
       "                                               n_estimators=250, n_jobs=-1,\n",
       "                                               num_class=3, num_parallel_tree=1,\n",
       "                                               objective='multi:softmax',\n",
       "                                               random_state=0, reg_alpha=0,\n",
       "                                               reg_lambda=1,\n",
       "                                               scale_pos_weight=None,\n",
       "                                               subsample=1, tree_method='exact',\n",
       "                                               validate_parameters=1,\n",
       "                                               verbosity=None),\n",
       "                  bootstrap_features=True, n_estimators=30, n_jobs=-1,\n",
       "                  random_state=5)"
      ]
     },
     "execution_count": 11,
     "metadata": {},
     "output_type": "execute_result"
    }
   ],
   "source": [
    "bagging_classifier_grid.best_estimator_"
   ]
  },
  {
   "cell_type": "code",
   "execution_count": 42,
   "metadata": {},
   "outputs": [],
   "source": [
    "params = {\n",
    "        'learning_rate':[ 0.1, 0.2, 0.3],\n",
    "        'n_estimators':[100,150,200,250],\n",
    "        'min_child_weight': [1,3, 5,7, 10],\n",
    "        'gamma': [0.5, 1, 1.5, 2, 5],\n",
    "        'subsample': [0.6, 0.8, 1.0],\n",
    "        'colsample_bytree': [0.6, 0.8, 1.0],\n",
    "        'max_depth': [3, 4, 5]\n",
    "        }"
   ]
  },
  {
   "cell_type": "code",
   "execution_count": 43,
   "metadata": {
    "scrolled": true
   },
   "outputs": [
    {
     "name": "stdout",
     "output_type": "stream",
     "text": [
      "Fitting 5 folds for each of 100 candidates, totalling 500 fits\n"
     ]
    },
    {
     "name": "stderr",
     "output_type": "stream",
     "text": [
      "[Parallel(n_jobs=-1)]: Using backend LokyBackend with 12 concurrent workers.\n",
      "[Parallel(n_jobs=-1)]: Done  48 tasks      | elapsed: 15.5min\n",
      "[Parallel(n_jobs=-1)]: Done 138 tasks      | elapsed: 40.5min\n",
      "[Parallel(n_jobs=-1)]: Done 264 tasks      | elapsed: 74.5min\n",
      "[Parallel(n_jobs=-1)]: Done 426 tasks      | elapsed: 117.3min\n",
      "[Parallel(n_jobs=-1)]: Done 500 out of 500 | elapsed: 133.1min finished\n",
      "C:\\Users\\Asaf Yekutiel\\anaconda3\\lib\\site-packages\\xgboost\\sklearn.py:888: UserWarning: The use of label encoder in XGBClassifier is deprecated and will be removed in a future release. To remove this warning, do the following: 1) Pass option use_label_encoder=False when constructing XGBClassifier object; and 2) Encode your labels (y) as integers starting with 0, i.e. 0, 1, 2, ..., [num_class - 1].\n",
      "  warnings.warn(label_encoder_deprecation_msg, UserWarning)\n"
     ]
    },
    {
     "name": "stdout",
     "output_type": "stream",
     "text": [
      "[13:10:39] WARNING: ..\\src\\learner.cc:541: \n",
      "Parameters: { silent } might not be used.\n",
      "\n",
      "  This may not be accurate due to some parameters are only used in language bindings but\n",
      "  passed down to XGBoost core.  Or some parameters are not used but slip through this\n",
      "  verification. Please open an issue if you find above cases.\n",
      "\n",
      "\n",
      "[13:10:41] WARNING: ..\\src\\learner.cc:1061: Starting in XGBoost 1.3.0, the default evaluation metric used with the objective 'binary:logistic' was changed from 'error' to 'logloss'. Explicitly set eval_metric if you'd like to restore the old behavior.\n",
      "Model Accuracy: 0.664\n"
     ]
    }
   ],
   "source": [
    "xgb = XGBClassifier(objective='binary:logistic',\n",
    "                    silent=True, nthread=1)\n",
    "grid_xgb = RandomizedSearchCV(xgb, param_distributions=params,scoring='accuracy', return_train_score=True, n_jobs=-1, cv=5, verbose=5, random_state=21,n_iter=100 )\n",
    "pipe_xgb = make_pipeline(imputer,StandardScaler(), PCA(n_components=0.90),grid_xgb)\n",
    "pipe_xgb.fit(X_train,y_train)\n",
    "print('Model Accuracy: %.3f' % pipe_xgb.score(X_test, y_test))\n"
   ]
  },
  {
   "cell_type": "code",
   "execution_count": 48,
   "metadata": {},
   "outputs": [
    {
     "data": {
      "text/plain": [
       "XGBClassifier(base_score=0.5, booster='gbtree', colsample_bylevel=1,\n",
       "              colsample_bynode=1, colsample_bytree=1.0, gamma=2, gpu_id=-1,\n",
       "              importance_type='gain', interaction_constraints='',\n",
       "              learning_rate=0.1, max_delta_step=0, max_depth=5,\n",
       "              min_child_weight=3, missing=nan, monotone_constraints='()',\n",
       "              n_estimators=200, n_jobs=1, nthread=1, num_parallel_tree=1,\n",
       "              random_state=0, reg_alpha=0, reg_lambda=1, scale_pos_weight=1,\n",
       "              silent=True, subsample=1.0, tree_method='exact',\n",
       "              validate_parameters=1, verbosity=None)"
      ]
     },
     "execution_count": 48,
     "metadata": {},
     "output_type": "execute_result"
    }
   ],
   "source": [
    "_"
   ]
  },
  {
   "cell_type": "code",
   "execution_count": 114,
   "metadata": {},
   "outputs": [
    {
     "name": "stderr",
     "output_type": "stream",
     "text": [
      "C:\\Users\\Asaf Yekutiel\\anaconda3\\lib\\site-packages\\xgboost\\sklearn.py:888: UserWarning: The use of label encoder in XGBClassifier is deprecated and will be removed in a future release. To remove this warning, do the following: 1) Pass option use_label_encoder=False when constructing XGBClassifier object; and 2) Encode your labels (y) as integers starting with 0, i.e. 0, 1, 2, ..., [num_class - 1].\n",
      "  warnings.warn(label_encoder_deprecation_msg, UserWarning)\n"
     ]
    },
    {
     "name": "stdout",
     "output_type": "stream",
     "text": [
      "[11:10:26] WARNING: ..\\src\\learner.cc:541: \n",
      "Parameters: { cv, silent } might not be used.\n",
      "\n",
      "  This may not be accurate due to some parameters are only used in language bindings but\n",
      "  passed down to XGBoost core.  Or some parameters are not used but slip through this\n",
      "  verification. Please open an issue if you find above cases.\n",
      "\n",
      "\n",
      "[11:10:28] WARNING: ..\\src\\learner.cc:1061: Starting in XGBoost 1.3.0, the default evaluation metric used with the objective 'binary:logistic' was changed from 'error' to 'logloss'. Explicitly set eval_metric if you'd like to restore the old behavior.\n",
      "Accuracy: 0.6596\n"
     ]
    }
   ],
   "source": [
    "pipe_xgb = make_pipeline(imputer,StandardScaler(), PCA(n_components=0.90),XGBClassifier(objective='binary:logistic',\n",
    "                    silent=True, nthread=1,subsample=1,n_estimators=150,min_child_weight=5,colsample_bytree = 1.0,learning_rate=0.2,gamma=2,cv=10) )\n",
    "pipe_xgb.fit(X_train,y_train)\n",
    "y_pred=pipe_xgb.predict(X_test)\n",
    "print(\"Accuracy:\",metrics.accuracy_score(y_test, y_pred))"
   ]
  },
  {
   "cell_type": "code",
   "execution_count": 22,
   "metadata": {},
   "outputs": [
    {
     "name": "stdout",
     "output_type": "stream",
     "text": [
      "{'base_score': 0.5,\n",
      " 'booster': 'gbtree',\n",
      " 'colsample_bylevel': 1,\n",
      " 'colsample_bynode': 1,\n",
      " 'colsample_bytree': 1.0,\n",
      " 'gamma': 5,\n",
      " 'gpu_id': -1,\n",
      " 'importance_type': 'gain',\n",
      " 'interaction_constraints': '',\n",
      " 'learning_rate': 0.02,\n",
      " 'max_delta_step': 0,\n",
      " 'max_depth': 5,\n",
      " 'min_child_weight': 5,\n",
      " 'missing': nan,\n",
      " 'monotone_constraints': '()',\n",
      " 'n_estimators': 250,\n",
      " 'n_jobs': 1,\n",
      " 'nthread': 1,\n",
      " 'num_parallel_tree': 1,\n",
      " 'objective': 'binary:logistic',\n",
      " 'random_state': 0,\n",
      " 'reg_alpha': 0,\n",
      " 'reg_lambda': 1,\n",
      " 'scale_pos_weight': 1,\n",
      " 'silent': True,\n",
      " 'subsample': 0.6,\n",
      " 'tree_method': 'exact',\n",
      " 'use_label_encoder': True,\n",
      " 'validate_parameters': 1,\n",
      " 'verbosity': None}\n"
     ]
    }
   ],
   "source": [
    "from pprint import pprint\n",
    "pprint(xgb_tund.best_estimator_.get_params())\n"
   ]
  },
  {
   "cell_type": "code",
   "execution_count": 204,
   "metadata": {},
   "outputs": [
    {
     "name": "stdout",
     "output_type": "stream",
     "text": [
      "Accuracy: 0.6022\n"
     ]
    }
   ],
   "source": [
    "from sklearn.ensemble import AdaBoostClassifier\n",
    "abc = AdaBoostClassifier(n_estimators=100, base_estimator=clf,learning_rate=1)\n",
    "model = abc.fit(X_train_pca, y_train)\n",
    "y_pred = model.predict(X_test_pca)\n",
    "# Model Accuracy, how often is the classifier correct?\n",
    "print(\"Accuracy:\",metrics.accuracy_score(y_test, y_pred))"
   ]
  },
  {
   "cell_type": "code",
   "execution_count": 108,
   "metadata": {},
   "outputs": [
    {
     "name": "stdout",
     "output_type": "stream",
     "text": [
      "Accuracy: 0.6238\n"
     ]
    }
   ],
   "source": [
    "knn = KNeighborsClassifier(n_neighbors=42,weights='distance',algorithm='auto',leaf_size = 34)\n",
    "pipe_knn1 = make_pipeline(imputer,StandardScaler(), PCA(n_components=0.90),knn)\n",
    "pipe_knn1.fit(X_train,y_train)\n",
    "y_pred=pipe_knn1.predict(X_test)\n",
    "print(\"Accuracy:\",metrics.accuracy_score(y_test, y_pred))\n"
   ]
  },
  {
   "cell_type": "code",
   "execution_count": 95,
   "metadata": {},
   "outputs": [],
   "source": [
    "knn2 =KNeighborsClassifier()\n",
    "k_range = list(range(1, 45))\n",
    "weight_options = ['distance']\n",
    "metric_options = ['euclidean','manhattan']\n",
    "leaf_size = list(range(1,50))\n",
    "param_grid = dict(n_neighbors=k_range, weights=weight_options,metric = metric_options,leaf_size=leaf_size)"
   ]
  },
  {
   "cell_type": "code",
   "execution_count": 106,
   "metadata": {},
   "outputs": [
    {
     "name": "stdout",
     "output_type": "stream",
     "text": [
      "Accuracy: 0.6222\n"
     ]
    }
   ],
   "source": [
    "\n",
    "gridKnn = RandomizedSearchCV(knn2, param_grid, cv=5, scoring='accuracy',verbose=1, return_train_score=True,n_iter=15,n_jobs=-1)\n",
    "pipe_knn = make_pipeline(imputer,StandardScaler(), PCA(n_components=0.90),gridKnn)\n",
    "pipe_knn.fit(X_train,y_train)\n",
    "y_pred=pipe_knn.predict(X_test)\n",
    "print(\"Accuracy:\",metrics.accuracy_score(y_test, y_pred))\n"
   ]
  },
  {
   "cell_type": "code",
   "execution_count": 16,
   "metadata": {},
   "outputs": [],
   "source": [
    "from sklearn.naive_bayes import GaussianNB  \n",
    "gnb = GaussianNB()  "
   ]
  },
  {
   "cell_type": "code",
   "execution_count": 17,
   "metadata": {},
   "outputs": [],
   "source": [
    "param_grid_nb = {\n",
    "    'var_smoothing': np.logspace(0,-9, num=100)\n",
    "}"
   ]
  },
  {
   "cell_type": "code",
   "execution_count": 18,
   "metadata": {},
   "outputs": [],
   "source": [
    "nbModel_grid = GridSearchCV(estimator=GaussianNB(), param_grid=param_grid_nb, verbose=1, cv=5, n_jobs=-1)\n"
   ]
  },
  {
   "cell_type": "code",
   "execution_count": 22,
   "metadata": {},
   "outputs": [
    {
     "name": "stdout",
     "output_type": "stream",
     "text": [
      "Fitting 5 folds for each of 100 candidates, totalling 500 fits\n"
     ]
    },
    {
     "name": "stderr",
     "output_type": "stream",
     "text": [
      "[Parallel(n_jobs=-1)]: Using backend LokyBackend with 12 concurrent workers.\n",
      "[Parallel(n_jobs=-1)]: Done  26 tasks      | elapsed:    5.5s\n",
      "[Parallel(n_jobs=-1)]: Done 176 tasks      | elapsed:   19.1s\n",
      "[Parallel(n_jobs=-1)]: Done 426 tasks      | elapsed:   42.3s\n",
      "[Parallel(n_jobs=-1)]: Done 500 out of 500 | elapsed:   48.8s finished\n"
     ]
    },
    {
     "name": "stdout",
     "output_type": "stream",
     "text": [
      "Accuracy: 0.6202\n"
     ]
    }
   ],
   "source": [
    "pipe_gnb = make_pipeline(imputer,StandardScaler(), PCA(n_components=0.90),nbModel_grid)\n",
    "pipe_gnb.fit(X_train,y_train)\n",
    "y_pred=pipe_gnb.predict(X_test)\n",
    "print(\"Accuracy:\",metrics.accuracy_score(y_test, y_pred))"
   ]
  },
  {
   "cell_type": "code",
   "execution_count": 24,
   "metadata": {
    "scrolled": true
   },
   "outputs": [
    {
     "data": {
      "text/plain": [
       "GaussianNB(var_smoothing=0.0657933224657568)"
      ]
     },
     "execution_count": 24,
     "metadata": {},
     "output_type": "execute_result"
    }
   ],
   "source": [
    "nbModel_grid.best_estimator_"
   ]
  },
  {
   "cell_type": "code",
   "execution_count": 80,
   "metadata": {},
   "outputs": [
    {
     "data": {
      "text/plain": [
       "GaussianNB(var_smoothing=0.0657933224657568)"
      ]
     },
     "execution_count": 80,
     "metadata": {},
     "output_type": "execute_result"
    }
   ],
   "source": []
  },
  {
   "cell_type": "code",
   "execution_count": 115,
   "metadata": {},
   "outputs": [
    {
     "name": "stderr",
     "output_type": "stream",
     "text": [
      "C:\\Users\\Asaf Yekutiel\\anaconda3\\lib\\site-packages\\xgboost\\sklearn.py:888: UserWarning: The use of label encoder in XGBClassifier is deprecated and will be removed in a future release. To remove this warning, do the following: 1) Pass option use_label_encoder=False when constructing XGBClassifier object; and 2) Encode your labels (y) as integers starting with 0, i.e. 0, 1, 2, ..., [num_class - 1].\n",
      "  warnings.warn(label_encoder_deprecation_msg, UserWarning)\n"
     ]
    },
    {
     "name": "stdout",
     "output_type": "stream",
     "text": [
      "[11:22:23] WARNING: ..\\src\\learner.cc:541: \n",
      "Parameters: { cv, silent } might not be used.\n",
      "\n",
      "  This may not be accurate due to some parameters are only used in language bindings but\n",
      "  passed down to XGBoost core.  Or some parameters are not used but slip through this\n",
      "  verification. Please open an issue if you find above cases.\n",
      "\n",
      "\n",
      "[11:22:24] WARNING: ..\\src\\learner.cc:1061: Starting in XGBoost 1.3.0, the default evaluation metric used with the objective 'binary:logistic' was changed from 'error' to 'logloss'. Explicitly set eval_metric if you'd like to restore the old behavior.\n",
      "Model Accuracy: 0.664\n"
     ]
    }
   ],
   "source": [
    "\n",
    "rnd_clf = gridTree.best_estimator_\n",
    "xgb_clf = XGBClassifier(objective='binary:logistic',\n",
    "                    silent=True, nthread=1,subsample=1,n_estimators=150,min_child_weight=5,colsample_bytree = 1.0,learning_rate=0.2,gamma=2,cv=10)\n",
    "knn_clf = knn\n",
    "voting_clf = VotingClassifier(\n",
    "    estimators=[('rf', rnd_clf), ('xgb', xgb_clf),('knn', knn_clf)],\n",
    "    voting='hard')\n",
    "pipeline_VH = make_pipeline(StandardScaler(), PCA(n_components=0.90)\n",
    "                       ,voting_clf)\n",
    "pipeline_VH.fit(X_train, y_train)\n",
    "print('Model Accuracy: %.3f' % pipeline_VH.score(X_test, y_test))"
   ]
  },
  {
   "cell_type": "code",
   "execution_count": 117,
   "metadata": {},
   "outputs": [
    {
     "name": "stderr",
     "output_type": "stream",
     "text": [
      "C:\\Users\\Asaf Yekutiel\\anaconda3\\lib\\site-packages\\xgboost\\sklearn.py:888: UserWarning: The use of label encoder in XGBClassifier is deprecated and will be removed in a future release. To remove this warning, do the following: 1) Pass option use_label_encoder=False when constructing XGBClassifier object; and 2) Encode your labels (y) as integers starting with 0, i.e. 0, 1, 2, ..., [num_class - 1].\n",
      "  warnings.warn(label_encoder_deprecation_msg, UserWarning)\n"
     ]
    },
    {
     "name": "stdout",
     "output_type": "stream",
     "text": [
      "[11:39:51] WARNING: ..\\src\\learner.cc:541: \n",
      "Parameters: { cv, silent } might not be used.\n",
      "\n",
      "  This may not be accurate due to some parameters are only used in language bindings but\n",
      "  passed down to XGBoost core.  Or some parameters are not used but slip through this\n",
      "  verification. Please open an issue if you find above cases.\n",
      "\n",
      "\n",
      "[11:39:53] WARNING: ..\\src\\learner.cc:1061: Starting in XGBoost 1.3.0, the default evaluation metric used with the objective 'binary:logistic' was changed from 'error' to 'logloss'. Explicitly set eval_metric if you'd like to restore the old behavior.\n",
      "Model Accuracy: 0.672\n"
     ]
    }
   ],
   "source": [
    "rnd_clf = gridTree.best_estimator_\n",
    "xgb_clf = XGBClassifier(objective='binary:logistic',\n",
    "                    silent=True, nthread=1,subsample=1,n_estimators=150,min_child_weight=5,colsample_bytree = 1.0,learning_rate=0.2,gamma=2,cv=10)\n",
    "knn_clf = knn\n",
    "voting_clf = VotingClassifier(\n",
    "    estimators=[('rf', rnd_clf), ('xgb', xgb_clf),('knn', knn_clf)],\n",
    "    voting='hard')\n",
    "pipeline_VS = make_pipeline(StandardScaler(), PCA(n_components=0.90)\n",
    "                       ,voting_clf)\n",
    "pipeline_VS.fit(X_train, y_train)\n",
    "print('Model Accuracy: %.3f' % pipeline_VS.score(X_test, y_test))"
   ]
  },
  {
   "cell_type": "code",
   "execution_count": 120,
   "metadata": {},
   "outputs": [
    {
     "name": "stderr",
     "output_type": "stream",
     "text": [
      "C:\\Users\\Asaf Yekutiel\\anaconda3\\lib\\site-packages\\xgboost\\sklearn.py:888: UserWarning: The use of label encoder in XGBClassifier is deprecated and will be removed in a future release. To remove this warning, do the following: 1) Pass option use_label_encoder=False when constructing XGBClassifier object; and 2) Encode your labels (y) as integers starting with 0, i.e. 0, 1, 2, ..., [num_class - 1].\n",
      "  warnings.warn(label_encoder_deprecation_msg, UserWarning)\n"
     ]
    },
    {
     "name": "stdout",
     "output_type": "stream",
     "text": [
      "[13:09:33] WARNING: ..\\src\\learner.cc:541: \n",
      "Parameters: { cv, silent } might not be used.\n",
      "\n",
      "  This may not be accurate due to some parameters are only used in language bindings but\n",
      "  passed down to XGBoost core.  Or some parameters are not used but slip through this\n",
      "  verification. Please open an issue if you find above cases.\n",
      "\n",
      "\n",
      "[13:09:35] WARNING: ..\\src\\learner.cc:1061: Starting in XGBoost 1.3.0, the default evaluation metric used with the objective 'binary:logistic' was changed from 'error' to 'logloss'. Explicitly set eval_metric if you'd like to restore the old behavior.\n",
      "Model Accuracy: 0.668\n"
     ]
    }
   ],
   "source": [
    "rnd_clf = gridTree.best_estimator_\n",
    "xgb_clf = XGBClassifier(objective='binary:logistic',\n",
    "                    silent=True, nthread=1,subsample=1,n_estimators=150,min_child_weight=5,colsample_bytree = 1.0,learning_rate=0.2,gamma=2,cv=10)\n",
    "knn_clf = knn\n",
    "voting_clf2 = VotingClassifier(\n",
    "    estimators=[('rf', rnd_clf), ('xgb', xgb_clf),('knn', knn_clf)],\n",
    "    voting='soft')\n",
    "pipeline_VS2 = make_pipeline(StandardScaler(), PCA(n_components=0.90)\n",
    "                       ,voting_clf)\n",
    "pipeline_VS2.fit(X_train, y_train)\n",
    "print('Model Accuracy: %.3f' % pipeline_VS2.score(X_test, y_test))"
   ]
  },
  {
   "cell_type": "code",
   "execution_count": 27,
   "metadata": {},
   "outputs": [
    {
     "name": "stdout",
     "output_type": "stream",
     "text": [
      "Model Accuracy: 0.679\n"
     ]
    }
   ],
   "source": [
    "xgb_bg = bagging_classifier_grid.best_estimator_\n",
    "xgb_clf=XGBClassifier(objective='binary:logistic',silent=True, nthread=1,subsample=1,n_estimators=150,min_child_weight=5,colsample_bytree = 1.0,learning_rate=0.2,gamma=2)\n",
    "knn =KNeighborsClassifier(n_neighbors=42,weights='distance',algorithm='auto',leaf_size = 34)\n",
    "rf_tund =RandomForestClassifier(criterion='entropy', max_depth=50, max_features='sqrt',min_samples_leaf=4, min_samples_split=3,n_estimators=250)\n",
    "estimator_list = [\n",
    "    ('knn',knn),\n",
    "    ('xgb_tund',xgb_bg),\n",
    "    ('rf_tund',rf_tund,),\n",
    "    ('nbModel_grid ',nbModel_grid.best_estimator_)\n",
    "    \n",
    "]\n",
    "\n",
    "# Build stack model\n",
    "stack_model = StackingClassifier(estimators=estimator_list, final_estimator=LogisticRegression(),cv =5,n_jobs=-1,verbose=3)\n",
    "pipeline_SM = make_pipeline(StandardScaler(), PCA(n_components=0.90)\n",
    "                       ,stack_model)\n",
    "pipeline_SM.fit(X_train, y_train)\n",
    "print('Model Accuracy: %.3f' % pipeline_SM.score(X_test, y_test))\n",
    "\n"
   ]
  },
  {
   "cell_type": "code",
   "execution_count": 119,
   "metadata": {},
   "outputs": [
    {
     "name": "stdout",
     "output_type": "stream",
     "text": [
      "Model Accuracy: 0.675\n"
     ]
    }
   ],
   "source": [
    "xgb_clf=XGBClassifier(objective='binary:logistic',silent=True, nthread=1,subsample=1,n_estimators=150,min_child_weight=5,colsample_bytree = 1.0,learning_rate=0.2,gamma=2)\n",
    "estimator_list = [\n",
    "    ('knn',knn),\n",
    "    ('xgb_tund',xgb_clf),\n",
    "     ('rf_tund',gridTree.best_estimator_),\n",
    "    \n",
    "]\n",
    "\n",
    "# Build stack model\n",
    "stack_model2 = StackingClassifier(estimators=estimator_list, final_estimator=LogisticRegression(),cv =5,n_jobs=-1,verbose=3)\n",
    "pipeline_SM2 = make_pipeline(StandardScaler(), PCA(n_components=0.90)\n",
    "                       ,stack_model)\n",
    "pipeline_SM2.fit(X_train, y_train)\n",
    "print('Model Accuracy: %.3f' % pipeline_SM2.score(X_test, y_test))"
   ]
  },
  {
   "cell_type": "code",
   "execution_count": 11,
   "metadata": {},
   "outputs": [
    {
     "name": "stdout",
     "output_type": "stream",
     "text": [
      "Fitting 5 folds for each of 8 candidates, totalling 40 fits\n"
     ]
    },
    {
     "name": "stderr",
     "output_type": "stream",
     "text": [
      "[Parallel(n_jobs=-1)]: Using backend LokyBackend with 12 concurrent workers.\n",
      "[Parallel(n_jobs=-1)]: Done  40 out of  40 | elapsed: 313.5min finished\n"
     ]
    },
    {
     "name": "stdout",
     "output_type": "stream",
     "text": [
      "Model Accuracy: 0.680\n"
     ]
    }
   ],
   "source": [
    "params = {'n_estimators': [10,30],\n",
    "          'max_samples': [0.5, 1.0],\n",
    "          'max_features': [0.5, 1.0],\n",
    "          'bootstrap': [True],\n",
    "          'bootstrap_features': [True]}\n",
    "xgb_clf=XGBClassifier(objective='binary:logistic',silent=True, nthread=1,subsample=1,n_estimators=150,min_child_weight=5,colsample_bytree = 1.0,learning_rate=0.2,gamma=2)\n",
    "\n",
    "bagging_classifier_grid = GridSearchCV(BaggingClassifier(base_estimator = xgb_clf,random_state=5, n_jobs=-1), param_grid =params, cv=5, n_jobs=-1, verbose=1)\n",
    "pipeline_bagging_xgb = make_pipeline(StandardScaler(), PCA(n_components=0.90)\n",
    "                       ,bagging_classifier_grid)  \n",
    "pipeline_bagging_xgb.fit(X_train, y_train)\n",
    "\n",
    "print('Model Accuracy: %.3f' % pipeline_bagging_xgb.score(X_test, y_test))"
   ]
  },
  {
   "cell_type": "code",
   "execution_count": 12,
   "metadata": {},
   "outputs": [
    {
     "data": {
      "text/plain": [
       "BaggingClassifier(base_estimator=XGBClassifier(base_score=None, booster=None,\n",
       "                                               colsample_bylevel=None,\n",
       "                                               colsample_bynode=None,\n",
       "                                               colsample_bytree=1.0, gamma=2,\n",
       "                                               gpu_id=None,\n",
       "                                               importance_type='gain',\n",
       "                                               interaction_constraints=None,\n",
       "                                               learning_rate=0.2,\n",
       "                                               max_delta_step=None,\n",
       "                                               max_depth=None,\n",
       "                                               min_child_weight=5, missing=nan,\n",
       "                                               monotone_constraints=None,\n",
       "                                               n_estimators=150, n_jobs=None,\n",
       "                                               nthread=1,\n",
       "                                               num_parallel_tree=None,\n",
       "                                               random_state=None,\n",
       "                                               reg_alpha=None, reg_lambda=None,\n",
       "                                               scale_pos_weight=None,\n",
       "                                               silent=True, subsample=1,\n",
       "                                               tree_method=None,\n",
       "                                               validate_parameters=None,\n",
       "                                               verbosity=None),\n",
       "                  bootstrap_features=True, n_estimators=30, n_jobs=-1,\n",
       "                  random_state=5)"
      ]
     },
     "execution_count": 12,
     "metadata": {},
     "output_type": "execute_result"
    }
   ],
   "source": [
    "bagging_classifier_grid.best_estimator_\n"
   ]
  },
  {
   "cell_type": "code",
   "execution_count": null,
   "metadata": {},
   "outputs": [],
   "source": []
  },
  {
   "cell_type": "code",
   "execution_count": null,
   "metadata": {},
   "outputs": [],
   "source": []
  },
  {
   "cell_type": "code",
   "execution_count": null,
   "metadata": {},
   "outputs": [],
   "source": []
  },
  {
   "cell_type": "code",
   "execution_count": null,
   "metadata": {},
   "outputs": [],
   "source": []
  },
  {
   "cell_type": "code",
   "execution_count": 12,
   "metadata": {},
   "outputs": [
    {
     "data": {
      "image/png": "[encoded data removed]",
      "text/plain": [
       "<Figure size 432x288 with 1 Axes>"
      ]
     },
     "metadata": {
      "needs_background": "light"
     },
     "output_type": "display_data"
    }
   ],
   "source": [
    "# Standardize the data to have a mean of ~0 and a variance of 1\n",
    "X_std = StandardScaler().fit_transform(df)\n",
    "# Create a PCA instance: pca\n",
    "pca = PCA(n_components=0.9)\n",
    "principalComponents = pca.fit_transform(X_std)\n",
    "# Plot the explained variances\n",
    "features = range(pca.n_components_)\n",
    "plt.bar(features, pca.explained_variance_ratio_, color='blue')\n",
    "plt.xlabel('PCA features')\n",
    "plt.ylabel('variance %')\n",
    "plt.xticks(features)\n",
    "# Save components to a DataFrame\n",
    "PCA_components = pd.DataFrame(principalComponents)"
   ]
  },
  {
   "cell_type": "code",
   "execution_count": 100,
   "metadata": {},
   "outputs": [
    {
     "data": {
      "text/plain": [
       "Text(0, 0.5, 'PCA 2')"
      ]
     },
     "execution_count": 100,
     "metadata": {},
     "output_type": "execute_result"
    },
    {
     "data": {
      "image/png": "[encoded data removed]",
      "text/plain": [
       "<Figure size 432x288 with 1 Axes>"
      ]
     },
     "metadata": {
      "needs_background": "light"
     },
     "output_type": "display_data"
    }
   ],
   "source": [
    "plt.scatter(PCA_components[0], PCA_components[1], alpha=.1, color='black')\n",
    "plt.xlabel('PCA 1')\n",
    "plt.ylabel('PCA 2')"
   ]
  },
  {
   "cell_type": "code",
   "execution_count": 101,
   "metadata": {},
   "outputs": [
    {
     "data": {
      "image/png": "[encoded data removed]",
      "text/plain": [
       "<Figure size 432x288 with 1 Axes>"
      ]
     },
     "metadata": {
      "needs_background": "light"
     },
     "output_type": "display_data"
    }
   ],
   "source": [
    "ks = range(1, 10)\n",
    "inertias = []\n",
    "for k in ks:\n",
    "    # Create a KMeans instance with k clusters: model\n",
    "    model = KMeans(n_clusters=k)\n",
    "    \n",
    "    # Fit model to samples\n",
    "    model.fit(PCA_components.iloc[:,:3])\n",
    "    \n",
    "    # Append the inertia to the list of inertias\n",
    "    inertias.append(model.inertia_)\n",
    "    \n",
    "plt.plot(ks, inertias, '-o', color='black')\n",
    "plt.xlabel('number of clusters, k')\n",
    "plt.ylabel('inertia')\n",
    "plt.xticks(ks)\n",
    "plt.show()"
   ]
  },
  {
   "cell_type": "code",
   "execution_count": null,
   "metadata": {},
   "outputs": [],
   "source": []
  }
 ],
 "metadata": {
  "kernelspec": {
   "display_name": "Python 3",
   "language": "python",
   "name": "python3"
  },
  "language_info": {
   "codemirror_mode": {
    "name": "ipython",
    "version": 3
   },
   "file_extension": ".py",
   "mimetype": "text/x-python",
   "name": "python",
   "nbconvert_exporter": "python",
   "pygments_lexer": "ipython3",
   "version": "3.8.3"
  }
 },
 "nbformat": 4,
 "nbformat_minor": 4
}
